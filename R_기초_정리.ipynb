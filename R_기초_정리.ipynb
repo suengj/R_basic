{
 "cells": [
  {
   "cell_type": "markdown",
   "metadata": {},
   "source": [
    "## 본 코드는 R에 대한 연습을 하기 위한 정리 노트입니다. (version 1.0) \n",
    "### 2018.06.13. 홍승재\n",
    "\n",
    "#### 기본적인 명령어 및 예시에 대한 정리를 하였습니다.\n",
    "\n",
    "### 목차\n",
    "1. Data Type\n",
    "    + 개념 설명\n",
    "    + 예시 코드\n",
    "\n",
    "\n",
    "2. 제어문, 연산, 함수\n",
    "    + 개념 설명 및 예시 코드\n",
    "\n",
    "\n",
    "3. 벡터 연산\n",
    "\n",
    "\n",
    "4. 데이터 조작 \n",
    "    + 파일 입출력, save, load, rbind, cbind 함수\n",
    "    + apply 계열 함수\n",
    "    + doBy 패키지 및 주요 함수\n",
    "    + split(), subset(), merge(), sort(), order(), with(), within(), attach(), detach(), which(), which.max/min(), aggregate(), stack(), unstack(), RMySQL 패키지\n",
    "\n",
    "\n",
    "5. iris dataset 등을 활용한 데이터 조작의 예시\n",
    "\n",
    "#### 주 참고: [R을 이용한 데이터 처리 실무, 서민구](http://r4pda.co.kr/pdf/r4pda_2014_03_02.pdf) (~ p.118 까지의 내용) (2018.06.14.)"
   ]
  },
  {
   "cell_type": "code",
   "execution_count": 6,
   "metadata": {},
   "outputs": [
    {
     "data": {
      "text/html": [
       "'LC_COLLATE=Korean_Korea.949;LC_CTYPE=Korean_Korea.949;LC_MONETARY=Korean_Korea.949;LC_NUMERIC=C;LC_TIME=Korean_Korea.949'"
      ],
      "text/latex": [
       "'LC\\_COLLATE=Korean\\_Korea.949;LC\\_CTYPE=Korean\\_Korea.949;LC\\_MONETARY=Korean\\_Korea.949;LC\\_NUMERIC=C;LC\\_TIME=Korean\\_Korea.949'"
      ],
      "text/markdown": [
       "'LC_COLLATE=Korean_Korea.949;LC_CTYPE=Korean_Korea.949;LC_MONETARY=Korean_Korea.949;LC_NUMERIC=C;LC_TIME=Korean_Korea.949'"
      ],
      "text/plain": [
       "[1] \"LC_COLLATE=Korean_Korea.949;LC_CTYPE=Korean_Korea.949;LC_MONETARY=Korean_Korea.949;LC_NUMERIC=C;LC_TIME=Korean_Korea.949\""
      ]
     },
     "metadata": {},
     "output_type": "display_data"
    }
   ],
   "source": [
    "# Setting Global Options\n",
    "options(warns=-1)\n",
    "Sys.setlocale(locale=\"Korean\") \n",
    "options(encoding=\"UTF-8\") \n",
    "\n",
    "# this options allow to use unicode in R Jupyter Notebook"
   ]
  },
  {
   "cell_type": "markdown",
   "metadata": {},
   "source": [
    "### 1. data type에 대한 설명\n",
    "\n",
    "1. naming Variable\n",
    "    + 변수명은 알파벳, 숫자, '_', '.' 등을 사용한다. \n",
    "    + <-, <<-, = , ->, ->> 등으로 변수를 assign할 수 있다. (REFERENCE 1 참고)\n",
    "\n",
    "\n",
    "2. Scala\n",
    "     + 숫자, NA, NULL, 문자열, 진리값, factor(요인) 등이 포함된다.\n",
    "     + NULL은 할당되지 않은 객체(?)로써 is.na(null)의 경우 logical(0)을 반환하게 된다. \n",
    "     + 진리값의 경우 &, &&, |, ||, ! 의 연산자를 사용 할 수 있다. \n",
    "         + &의 경우는 벡터의 요소 \"끼리\" 연산을 할 때 활용되며, &&의 경우는 벡터 그 자체 간의 연산을 할 때 활용된다.\n",
    "     + Factor의 경우 범주형(categorical) 변수를 위한 타입으로써 사전에 지정된 요인 값만 들어 갈 수 있다. - 자세한 건 아래 참고\n",
    "\n",
    "\n",
    "3. vector\n",
    "    + c()를 통해 나열을 한다. \n",
    "    + c()내에 나열되는 값들은 동일한 유형의 스칼라여야 한다. (type에도 우선순위로 적용되는 게 있다)\n",
    "    + 벡터는 중첩될 수 없다. c(1,2,3,c(1,2,3)) = 1, 2, 3, 1, 2, 3 으로 반환한다.\n",
    "    + 벡터 내 데이터에 접근하기 위해서는 X[n]으로 입력을 한다.\n",
    "    + 벡터 연산 시 벡터는 집합으로 인식하여 연산을 하게 된다. \n",
    "    \n",
    "    \n",
    "4. matrix\n",
    "    + m[1,]은 → 의 방향 / 행 / SNA에서 outdegree (sender)\n",
    "        + 즉, 2행은 두 번째 줄에 있는 vector들을 의미\n",
    "    + m[,1]은 ↓ 의 방향 / 렬 / SNA에서 indegree (receiver)\n",
    "        + 즉, 2열은 두 번째 column에 있는 vector들을 의미\n",
    "    + 즉 행렬이름[행인덱스, 열인덱스]로 접근을 하게 된다. \n",
    "        + 인덱스에는 벡터를 넣을 수 있다. X[c(1,3),c(2:4)] 이런 식으로 말이다. \n",
    "        + dimnames를 통하여 행과 열에 이름을 부여했다면 이름을 직접 사용하여 matrix를 추출 할 수 있다. \n",
    "    + 행렬을 연산하기 위해서는 일반 프로그래밍처럼 * 혹은 / 을 사용한다. 덧셈은 + 이고 뺄셈은 - 이다. (기타 연산은 아래에 예시로 설명)\n",
    "\n",
    "\n",
    "5. Array - Matrix의 확장\n",
    "    + Array는 n차원의 행렬이다. 배열의 차원은 dim()함수를 통해 알 수 있다. \n",
    "\n",
    "\n",
    "6. data.frame\n",
    "    + 가장 중요한 자료형\n",
    "    + data.frame의 경우 하나의 컬럼만 선택을 할 경우, 벡터로 결과가 처리되기 때문에 하나의 column만 선택하기 위해서는 drop=FALSE 옵션을 지정해야 한다. \n",
    "\n",
    "\n",
    "7. list\n",
    "    + list(키=값, 키=값, ... ) 등으로 정의된다. 또한 각 값이 모두 스칼라일 필요도 없으며, 타입이 달라도 저장이 가능하다.\n",
    "    + 리스트 내 데이터 접근을 위해서는 X[[n]]으로 입력한다. 즉, [[n]]으로 입력을 할 경우, X내 키1의 n번째 값 ... 키m의 n번째 값까지 반환을 한다.\n",
    "    + X[n]의 경우는 키n의 서브 리스트를 반환하는 것이다. "
   ]
  },
  {
   "cell_type": "markdown",
   "metadata": {},
   "source": [
    "### About Commands"
   ]
  },
  {
   "cell_type": "code",
   "execution_count": 49,
   "metadata": {},
   "outputs": [
    {
     "name": "stdout",
     "output_type": "stream",
     "text": [
      "[1] TRUE\n",
      "[1] FALSE\n",
      "[1] TRUE\n",
      "[1] TRUE\n",
      "[1] FALSE\n",
      "[1]  TRUE FALSE\n",
      "[1] TRUE\n",
      "[1] m\n",
      "Levels: m f\n",
      "[1] 2\n",
      "[1] \"m\" \"f\"\n",
      "[1] \"f\"\n",
      "[1] male\n",
      "Levels: male female\n",
      "[1] a b c\n",
      "Levels: a < b < c\n",
      "[1] a b c\n",
      "Levels: a < b < c\n"
     ]
    }
   ],
   "source": [
    "# 진리값\n",
    "print(TRUE & TRUE)\n",
    "print(TRUE & FALSE)\n",
    "print(TRUE|TRUE)\n",
    "print(TRUE|FALSE)\n",
    "print(!TRUE)\n",
    "print(c(TRUE,TRUE) & c(TRUE,FALSE)) # column 내 원소 간 비교\n",
    "print(c(TRUE,TRUE) && c(TRUE,FALSE)) # column 자체 비교\n",
    "\n",
    "# factor\n",
    "gender <- factor(\"m\", c(\"m\",\"f\")) # 현재 gender 변수에는 m이라는 factor가 들어가 있지만, factor의 전체 범위는 {m, f}임을 암시한다.\n",
    "print(gender)\n",
    "\n",
    "print(nlevels(gender)) # nlevel을 통하여 범주의 수를 확인한다.\n",
    "print(levels(gender)) # levels을 통하여 범주의 목록을 확인한다.\n",
    "\n",
    "print(levels(gender)[2]) # 범주의 목록 중 두번째를 출력한다.\n",
    "\n",
    "levels(gender) <- c('male','female') # gender의 level의 값을 변경한다. \n",
    "print(gender)\n",
    "\n",
    "# 기본적으로 factor에는 order가 없기 때문에 ordering을 하기 위해서는 \n",
    "print(ordered(c(\"a\",\"b\",\"c\"))) \n",
    "\n",
    "print(factor(c(\"a\",\"b\",\"c\"), ordered=TRUE)) # 이렇게 두 가지 방식이 존재한다. (< 으로 ordered가 표시된다.)"
   ]
  },
  {
   "cell_type": "code",
   "execution_count": 64,
   "metadata": {},
   "outputs": [
    {
     "name": "stdout",
     "output_type": "stream",
     "text": [
      "[1] 1 2 3\n",
      "[1] 1 2 3 4 5\n",
      "x y z \n",
      "1 2 3 \n",
      "y \n",
      "2 \n",
      "y z \n",
      "2 3 \n",
      "x z \n",
      "1 3 \n",
      "x y z \n",
      "1 2 3 \n",
      "z \n",
      "3 \n",
      "[1] 3\n",
      "[1] 3\n",
      "NULL\n",
      "[1] TRUE\n",
      "[1] \"b\" \"c\"\n",
      "[1] \"a\" \"b\" \"c\" \"d\"\n",
      "[1] \"a\"\n",
      "[1] FALSE\n",
      "[1] 1 2 3 4 5\n",
      "[1] 1 2 3 4 5\n",
      "[1] 1 3 5\n",
      " [1] 1 2 1 2 1 2 1 2 1 2\n",
      " [1] 1 1 1 1 1 2 2 2 2 2\n"
     ]
    }
   ],
   "source": [
    "# Vector\n",
    "print(seq_along(c('a','b','x'))) # 주어진 데이터의 길이만큼 1 ~ N으로 구성된 벡터를 반환한다. \n",
    "print(seq_len(5)) # N값이 주어지면 1 ~ N으로 주어진 벡터를 반환한다.\n",
    "\n",
    "x <- c(1,2,3)\n",
    "names(x) <- c(\"x\",\"y\",\"z\") # 벡터에도 이름을 넣을 수 있다. \n",
    "print(x)\n",
    "\n",
    "# 벡터내 데이터 접근은 []으로 표시한다.\n",
    "print(x[2])\n",
    "print(x[-1])\n",
    "print(x[c(1,3)])\n",
    "print(x[1:3])\n",
    "print(x[\"z\"]) # 벡터에 정의된 이름으로도 반환 할 수 있다.\n",
    "\n",
    "# 벡터의 길이는 length() 혹은 NROW()로 알 수 있다. \n",
    "print(length(x))\n",
    "print(NROW(x))\n",
    "print(nrow(x)) # matrix가 아니기 때문에 NULL을 반환한다.\n",
    "\n",
    "# 벡터 연산 (%in% 을 통하여 해당 값이 벡터에 포함되어 있는지 확인한다)\n",
    "print(\"a\" %in% c(\"a\",\"b\",\"c\"))\n",
    "print(setdiff(c(\"a\",\"b\",\"c\"),c(\"a\",\"d\"))) # 차집합 (A-B)\n",
    "print(union(c(\"a\",\"b\",\"c\"),c(\"a\",\"d\"))) # 합집합 (A+B)\n",
    "print(intersect(c(\"a\",\"b\",\"c\"),c(\"a\",\"d\"))) # 교집합\n",
    "print(setequal(c(\"a\",\"b\",\"c\"),c(\"a\",\"d\"))) # 집합 간 비교\n",
    "\n",
    "# sequential numbering\n",
    "print(seq(1,5))\n",
    "print(1:5)\n",
    "print(seq(1,5,2)) # 3번째는 증가치\n",
    "\n",
    "# repetition numbering\n",
    "print(rep(1:2, 5)) # 5번의 loop로써 반복\n",
    "print(rep(1:2, each=5)) # 각각 5번"
   ]
  },
  {
   "cell_type": "code",
   "execution_count": 75,
   "metadata": {},
   "outputs": [
    {
     "name": "stdout",
     "output_type": "stream",
     "text": [
      "$name\n",
      "[1] \"hong\"\n",
      "\n",
      "$age\n",
      "[1] 30\n",
      "\n",
      "$gender\n",
      "[1] \"male\"\n",
      "\n",
      "$name\n",
      "[1] \"hong\"\n",
      "\n",
      "$age\n",
      "[1] 29 30 31\n",
      "\n",
      "$gender\n",
      "[1] \"male\"\n",
      "\n",
      "$a\n",
      "$a$name\n",
      "[1] \"hong\"\n",
      "\n",
      "$a$age\n",
      "[1] 30\n",
      "\n",
      "\n",
      "$b\n",
      "$b$name\n",
      "[1] \"hong2\"\n",
      "\n",
      "$b$age\n",
      "[1] 29\n",
      "\n",
      "\n",
      "$c\n",
      "[1] 1 2 3\n",
      "\n",
      "$name\n",
      "[1] \"hong2\"\n",
      "\n",
      "$age\n",
      "[1] 29\n",
      "\n",
      "$a\n",
      "$a$name\n",
      "[1] \"hong\"\n",
      "\n",
      "$a$age\n",
      "[1] 30\n",
      "\n",
      "\n"
     ]
    }
   ],
   "source": [
    "# 리스트\n",
    "x <- list(name =\"hong\", age=30, gender=\"male\") # null list를 만들 수도 있다. x <- list()\n",
    "print(x)\n",
    "\n",
    "# list는 스칼라, 벡터 간의 차이를 두지 않는다. \n",
    "x <- list(name =\"hong\", age=c(29,30,31), gender=\"male\")\n",
    "print(x)\n",
    "\n",
    "# 따라서 list 내에 list를 중첩시켜 만들 수 있다.\n",
    "x <- list(a=list(name=\"hong\", age=30), b=list(name=\"hong2\",age=29), c=c(1,2,3))\n",
    "print(x)\n",
    "\n",
    "# 리스트 내의 데이터에 접근하기 위해서는 $키 값에 접근해야 하며 이는 [[n]]을 통해 접근한다.\n",
    "print(x[[2]]) # x$b의 리스트를 반환한다.\n",
    "print(x[1]) # x의 첫 번째 키 값 자체를 반환해버린다. "
   ]
  },
  {
   "cell_type": "code",
   "execution_count": 106,
   "metadata": {},
   "outputs": [
    {
     "name": "stdout",
     "output_type": "stream",
     "text": [
      "     [,1] [,2]\n",
      "[1,]    1    6\n",
      "[2,]    2    7\n",
      "[3,]    3    8\n",
      "[4,]    4    9\n",
      "[5,]    5   10\n",
      "     [,1] [,2] [,3] [,4] [,5]\n",
      "[1,]    1    3    5    7    9\n",
      "[2,]    2    4    6    8   10\n",
      "     [,1] [,2]\n",
      "[1,]    1    2\n",
      "[2,]    3    4\n",
      "[3,]    5    6\n",
      "[4,]    7    8\n",
      "[5,]    9   10\n",
      "  x y z\n",
      "a 1 3 5\n",
      "b 2 4 6\n",
      "[1] 6\n",
      "  x y\n",
      "a 1 3\n",
      "b 2 4\n",
      "x z \n",
      "2 6 \n",
      "y z \n",
      "4 6 \n",
      "  x y  z\n",
      "a 2 6 10\n",
      "b 4 8 12\n",
      "    x   y   z\n",
      "a 0.5 1.5 2.5\n",
      "b 1.0 2.0 3.0\n",
      "  x  y  z\n",
      "a 2 12 30\n",
      "b 6 20 42\n",
      "    x   y   z\n",
      "a 0.5 1.5 2.5\n",
      "b 1.0 2.0 3.0\n"
     ]
    }
   ],
   "source": [
    "# matrix\n",
    "x <- matrix(c(1:10), nrow=5) # 5행, 2열\n",
    "print(x)\n",
    "x <- matrix(c(1:10), ncol=5) # 5열, 2행\n",
    "print(x)\n",
    "x <- matrix(c(1:10), nrow=5, byrow=T) #행부터 채워나가는 option\n",
    "print(x)\n",
    "\n",
    "# naming row / cols\n",
    "x <- matrix(c(1:6), nrow=2, dimnames = list(c(\"a\",\"b\"), c(\"x\",\"y\",\"z\")))\n",
    "print(x)\n",
    "\n",
    "# 행렬 내 데이터 접근\n",
    "print(x[2,3])\n",
    "print(x[1:2,-3])\n",
    "print(x[2,c(1,3)]) # 인덱스에 vector를 적용 할 수 있다.\n",
    "print(x[\"b\",c(\"y\",\"z\")]) # 인덱스에 붙여진 이름을 적용 할 수도 있다.\n",
    "\n",
    "# 행렬 연산\n",
    "print(x*2)\n",
    "print(x/2)\n",
    "print(x + (x^2))\n",
    "print(x - (x/2))\n",
    "# %*% 행렬 곱 (정방행렬 혹은 곱의 row/col이 맞아야함), t(): 전치행렬, solve(): 역행렬)\n",
    "\n",
    "# 행렬의 차원은 ncol, nrow로 구한다."
   ]
  },
  {
   "cell_type": "code",
   "execution_count": 109,
   "metadata": {},
   "outputs": [
    {
     "name": "stdout",
     "output_type": "stream",
     "text": [
      ", , 1\n",
      "\n",
      "     [,1] [,2]\n",
      "[1,]    1    3\n",
      "[2,]    2    4\n",
      "\n",
      ", , 2\n",
      "\n",
      "     [,1] [,2]\n",
      "[1,]    5    7\n",
      "[2,]    6    8\n",
      "\n",
      ", , 3\n",
      "\n",
      "     [,1] [,2]\n",
      "[1,]    9   11\n",
      "[2,]   10   12\n",
      "\n",
      "[1] 9\n"
     ]
    }
   ],
   "source": [
    "# array\n",
    "x <- array(1:12, dim=c(2,2,3)) # 2*2*3 행렬 (3겹의 2*2 행렬)\n",
    "print(x)\n",
    "print(x[1,1,3]) # 인덱스\n"
   ]
  },
  {
   "cell_type": "markdown",
   "metadata": {},
   "source": [
    "#### data.frame은 정말 중요하다. 다양한 함수도 적용 할 수 있고 데이터 관리할 때 가장 편리하기 때문이다. "
   ]
  },
  {
   "cell_type": "code",
   "execution_count": 123,
   "metadata": {},
   "outputs": [
    {
     "name": "stdout",
     "output_type": "stream",
     "text": [
      "  x y z\n",
      "1 1 1 a\n",
      "2 2 3 b\n",
      "3 3 5 c\n",
      "4 4 7 x\n",
      "5 5 9 y\n",
      "  x y z v\n",
      "1 1 1 a 3\n",
      "2 2 3 b 4\n",
      "3 3 5 c 5\n",
      "4 4 7 x 6\n",
      "5 5 9 y 7\n",
      "[1] 1 2 3 4 5\n",
      "  x y z v\n",
      "1 1 1 a 3\n",
      "[1] b\n",
      "Levels: a b c x y\n",
      "  x z v\n",
      "1 1 a 3\n",
      "3 3 c 5\n",
      "  x z\n",
      "3 3 c\n",
      "  x\n",
      "1 1\n",
      "2 2\n",
      "3 3\n",
      "4 4\n",
      "5 5\n"
     ]
    }
   ],
   "source": [
    "d <- data.frame(x=c(1:5),y=seq(1,10,2),z=c(\"a\",\"b\",\"c\",\"x\",\"y\"))\n",
    "print(d)\n",
    "d$v <- c(3:7)\n",
    "print(d)\n",
    "\n",
    "# 인덱싱\n",
    "print(d$x)\n",
    "print(d[1,])\n",
    "print(d[2,3])\n",
    "print(d[c(1,3),-2])\n",
    "print(d[3,c(\"x\",\"z\")])\n",
    "print(d[,c(\"x\"),drop=FALSE]) # 하나의 column만 선택 할 경우 data.frame의 모양이 아닌 vector로 반환되기에 drop FALSE option을 한다."
   ]
  },
  {
   "cell_type": "code",
   "execution_count": 124,
   "metadata": {},
   "outputs": [
    {
     "name": "stdout",
     "output_type": "stream",
     "text": [
      "'data.frame':\t5 obs. of  4 variables:\n",
      " $ x: int  1 2 3 4 5\n",
      " $ y: num  1 3 5 7 9\n",
      " $ z: Factor w/ 5 levels \"a\",\"b\",\"c\",\"x\",..: 1 2 3 4 5\n",
      " $ v: int  3 4 5 6 7\n"
     ]
    },
    {
     "data": {
      "text/html": [
       "<table>\n",
       "<thead><tr><th scope=col>x</th><th scope=col>y</th><th scope=col>z</th><th scope=col>v</th></tr></thead>\n",
       "<tbody>\n",
       "\t<tr><td>1</td><td>1</td><td>a</td><td>3</td></tr>\n",
       "\t<tr><td>2</td><td>3</td><td>b</td><td>4</td></tr>\n",
       "</tbody>\n",
       "</table>\n"
      ],
      "text/latex": [
       "\\begin{tabular}{r|llll}\n",
       " x & y & z & v\\\\\n",
       "\\hline\n",
       "\t 1 & 1 & a & 3\\\\\n",
       "\t 2 & 3 & b & 4\\\\\n",
       "\\end{tabular}\n"
      ],
      "text/markdown": [
       "\n",
       "x | y | z | v | \n",
       "|---|---|\n",
       "| 1 | 1 | a | 3 | \n",
       "| 2 | 3 | b | 4 | \n",
       "\n",
       "\n"
      ],
      "text/plain": [
       "  x y z v\n",
       "1 1 1 a 3\n",
       "2 2 3 b 4"
      ]
     },
     "metadata": {},
     "output_type": "display_data"
    },
    {
     "name": "stdout",
     "output_type": "stream",
     "text": [
      "  X1.3\n",
      "1    1\n",
      "2    2\n",
      "3    3\n",
      "  val\n",
      "x   1\n",
      "y   2\n",
      "z   3\n"
     ]
    }
   ],
   "source": [
    "str(d) #자료요약\n",
    "head(d,2) #자료 일부 보이기\n",
    "\n",
    "d <- data.frame(1:3)\n",
    "print(d) # as.data.frame이나 혹은 바로 data frame으로 설정할 경우 df의 이름이 없다. \n",
    "\n",
    "colnames(d) <- c('val') # 따라서 행의 이름을 새기거나\n",
    "rownames(d) <- c('x','y','z') # 열의 이름을 새길 수 있다.\n",
    "print(d)"
   ]
  },
  {
   "cell_type": "code",
   "execution_count": 130,
   "metadata": {},
   "outputs": [
    {
     "name": "stdout",
     "output_type": "stream",
     "text": [
      "  b c\n",
      "1 4 7\n",
      "2 5 8\n",
      "3 6 9\n",
      "  b\n",
      "1 4\n",
      "2 5\n",
      "3 6\n",
      "  b c\n",
      "1 4 7\n",
      "2 5 8\n",
      "3 6 9\n"
     ]
    }
   ],
   "source": [
    "# indexing (%in%) - %%와 관련한 연산자를 따로 정리할 필요가 있다. (2018.06.13.)\n",
    "df <- data.frame(a=1:3,b=4:6,c=7:9)\n",
    "print(df[,names(df) %in% c(\"b\",\"c\")]) # 즉 df라는 데이터 프레임 안에서 %in% 의 b, c column이 있는지 확인하고 반환을 하는 것이다.\n",
    "print(df[,names(df) %in% c(\"b\",\"d\"),drop=FALSE]) #d라는 column이 없기 때문에 반환을 하지 않는다. \n",
    "print(df[,!names(df) %in% c(\"a\")]) #a column을 제외하고 찾은 뒤 반환한다. "
   ]
  },
  {
   "cell_type": "code",
   "execution_count": 134,
   "metadata": {},
   "outputs": [
    {
     "name": "stdout",
     "output_type": "stream",
     "text": [
      "[1] m f\n",
      "Levels: f m\n",
      "[1] 2 1\n",
      "[1] m f\n",
      "Levels: m f\n"
     ]
    }
   ],
   "source": [
    "# CLASS 판별 (=class() / =str() / =is.TYPE() / =as.TYPE())\n",
    "# numeric, matrix, list, dataframe인지 판별한다. \n",
    "\n",
    "x <- c(\"m\",\"f\")\n",
    "print(as.factor(x)) # 알파벳 순서상 f가 m보다 앞서기 때문에 level 순서가 f m으로 나온다. \n",
    "print(as.numeric(as.factor(x))) # 이에 따라서 numeric화 시킬 경우 m=2, f=1 (level에 의해 정의된)으로 반환이 된다.\n",
    "\n",
    "print(factor(c(\"m\",\"f\"),levels=c(\"m\",\"f\"))) \n",
    "# factor 함수를 통해 level option을 걸어야 원하는 순서대로 factor level을 설정 할 수 있다. "
   ]
  },
  {
   "cell_type": "markdown",
   "metadata": {},
   "source": [
    "### 2. 제어문, 연산, 함수\n",
    "#### 본 내용은 특성 상 개념적인 내용 위주로 정리를 할 계획이다.\n",
    "\n",
    "1. 제어문\n",
    "    + IF: if(TRUE) {연산1} else {연산2} 으로 구성된다. \n",
    "    + FOR: for(i in 1:10) {연산1} else {연산2}으로 구성된다.\n",
    "    + WHILE: 역시 유사하며, err가 날 때까지 연산을 한다.\n",
    " \n",
    "\n",
    "2. 결측치(NA)\n",
    "    + 결측치가 있을 경우, 연산 과정에서 모두 결측치로 반환을 한다.\n",
    "        + NA & TRUE = NA\n",
    "        + NA + 1 = NA\n",
    "        + 머신러닝 패키지인 [caret](https://cran.r-project.org/web/packages/caret/index.html) 을 통하여 na.omit, na,pass, na.fail 등을 na.action의 인자로 받아 NA 처리 과정을 자세하게 할 수 있다."
   ]
  },
  {
   "cell_type": "code",
   "execution_count": 138,
   "metadata": {},
   "outputs": [
    {
     "data": {
      "text/html": [
       "&lt;NA&gt;"
      ],
      "text/latex": [
       "<NA>"
      ],
      "text/markdown": [
       "&lt;NA&gt;"
      ],
      "text/plain": [
       "[1] NA"
      ]
     },
     "metadata": {},
     "output_type": "display_data"
    },
    {
     "data": {
      "text/html": [
       "6"
      ],
      "text/latex": [
       "6"
      ],
      "text/markdown": [
       "6"
      ],
      "text/plain": [
       "[1] 6"
      ]
     },
     "metadata": {},
     "output_type": "display_data"
    }
   ],
   "source": [
    "# how to deal with NA\n",
    "sum(c(1, 2, 3, NA))\n",
    "sum(c(1, 2, 3, NA), na.rm =T) # 따라서 na.rm 이라는 조건을 통하여 NA를 무시하고 진행 할 수 있다."
   ]
  },
  {
   "cell_type": "markdown",
   "metadata": {},
   "source": [
    "3. 함수의 정의\n",
    "    + 함수명 <- function(인자1, 인자2, ...) {함수 구문} 으로 정의된다.\n",
    "    + 일반적으로 함수 구문 내에서 return()을 적용하는게 명확하다.\n",
    "    + 함수1에서 정의된 인자를 함수2의 정의 과정에서 활용 할 수 있다.\n",
    "        + f <- function(x,y){~} / g <- function(z, ...){~ f(...)}을 통하여 f에서 정의된 인자 x, y를 z에서 ...으로 모두 끌여들어 새로운 함수 내의 구문으로 만들 수 있다.\n",
    "    + 함수 안에 함수를 정의 할 수 있다.\n",
    "        + f <- function(x, y) { g <- function(y){~}} 을 적을 경우, y의 인자는 g 함수와 f 함수에서 사용되게 된다.\n",
    "    \n",
    "\n",
    "4. 스코프(scope)\n",
    "    + 코드에 기술한 변수가 어디에서 사용이 가능한지와 관련한 범위로써 lexical scope를 사용한다. \n",
    "    + 즉, 콘솔 상에서 선언된 변수는 모든 곳에서 사용이 가능하다 \n",
    "    + 그러나 함수 내부에서 변수 이름이 주어질 경우 그 변수를 찾는 범위는 함수 내부가 우선이 된다 (local in STATA)\n",
    "    + 전역 -> 함수 -> 함수 내부 함수 -> .. 으로 스코프의 우선 순위가 결정된다.\n",
    "        + f <- function(x,y){a <- 2, g<- function(y){a+1}} 일 경우 g 함수 내부에서 a가 없기 때문에 f 함수에서 선언된 a를 먼저 참고하며, 그마저도 f에 없을 경우 전역에 존재하는 a를 불러온다."
   ]
  },
  {
   "cell_type": "code",
   "execution_count": 141,
   "metadata": {},
   "outputs": [
    {
     "name": "stdout",
     "output_type": "stream",
     "text": [
      "[1] 2\n",
      "[1] 2\n",
      "[1] 1\n",
      "[1] 0\n",
      "[1] 2\n",
      "[1] 2\n",
      "[1] 2\n",
      "[1] 2\n"
     ]
    }
   ],
   "source": [
    "# scope와 관련한 예제 코드\n",
    "\n",
    "# 예시1\n",
    "b <- 0 # 전역으로 b가 0이 선언된다. \n",
    "\n",
    "f <- function () {\n",
    "    a <- 1 # f 함수 내에서 a에 1이 선언된다. \n",
    "        g <- function () {\n",
    "            a <- 2  # 1이 선언된 a에 2가 선언된다. 그러나 이 선언은 g함수 내에서만 유효하다. \n",
    "            b <- 2  # 동일하다.\n",
    "            print (a)\n",
    "            print (b)\n",
    "        }\n",
    "    g() # g 함수 자체에 적용된 내용은 없다. \n",
    "    print (a) # f함수 내에서 적용된 a를 반환한다.\n",
    "    print (b) # 최초에는 f함수에 적용된 b를 적용해야 하지만, b에는 아무 값이 없기 때문에 전역에서 선언된 b가 print된다.  \n",
    "}\n",
    "\n",
    "f()\n",
    "\n",
    "#예시2\n",
    "b <- 0\n",
    "\n",
    "f <- function () {\n",
    "    a <- 1\n",
    "        g <- function () {\n",
    "            a <<- 2 # <<- 를 사용하게 될 경우, g 함수 뿐만 아니라, f와 전역 모두에 적용되는 최우선적인 선언이 된다. \n",
    "            b <<- 2\n",
    "            print (a)\n",
    "            print (b)\n",
    "        }\n",
    "    g()\n",
    "    print (a)\n",
    "    print (b)\n",
    "}\n",
    "\n",
    "f()"
   ]
  },
  {
   "cell_type": "markdown",
   "metadata": {},
   "source": [
    "### 3. 벡터 연산\n",
    "#### 서민구, 2014의 p.71 ~ 74를 발췌했드며, p. 75 ~ 80 까지의 '객체 불변성', '모듈', '큐 패턴'은 추후에 읽어보도록 한다. \n",
    "\n",
    "\"벡터 연산이 중요한 이유는 for문등을 사용해 값을 하나씩 처리해나가는대신 벡터나 리스트를 한번에 처리하는 것이 더 효율적이고 편리하기 때문이다... 벡터끼리 연산하는 것도 가능하다. 앞서 진리값 (페이지 38)에서 설명하였듯이 벡터간 연산시에는 &&가 아니라 &를 사용한다.\"(서민구, 2014: 71-72)\n",
    "\n",
    "\"R에서는 모든 것이 객체이다. 또 객체는 함수 호출시 일반적을 값으로 전달된다. 이를 변수에 대한 참조(Reference)에 의한 방식에 대비해 값에 의한 전달(Pass By Value)이라고 한다. 값으로 전달된다는 말은 객체가 복사되어 함수로 전달된다는 의미이다. 예를들어 다음과 같이 데이터 프레임을 함수에 주었을 때 함수 내부에서 수행한 변경은 원래 객체에는 반영되지 않는다. 왜냐하면 함수 f안에서의 df2란 f를 호출한 측에서 넘긴 df 객체를 가리키는 참조가 아니라 넘겨받은 df를 복사한 새로운 df2이기 때문이다. [[Reference]](http://homepage.stat.uiowa.edu/~luke/R/references.html) (서민구, 2014: 73-74).\n",
    "\n",
    "\"여기까지 읽은 독자는 ‘그렇다면 객체가 함수에 넘겨질때마다 새로운 객체를 만들어야하므로 메모리 사용량이 너무 많아지지 않을까?’라는 의심을 품게 될 것이다. 실제로 매번 복사가 일어나야 한다면 그러한 부담이 있는 것이 사실이다. 그러나 R을 포함한 현대적 언어들은 함수 호출시 곧바로 객체를 복사하기 보다는 객체의 값을 바꿀 필요가 있을 때만 복사를 수행하는 Copy On Write 기법을 사용한다. [Copy on Write](https://en.wikipedia.org/wiki/Copy-on-write)에서는 데이터 프레임 등의 객체를 어떤 함수에 넘겼을 때 그 함수가 객체 내부 값을 바꾸는 시점에 이르러서야 값이 수정된 새로운 복사본을 만든다.\" (서민구, 2014: 74-75).\n",
    "\n",
    "\n",
    "1. 객체 목록 담기 및 삭제\n",
    "    + ls(): 메모리 상에 만들어진 전체 객체의 목록을 담아내는 함수이다.\n",
    "    + rm(): 해당 객체를 삭제하는 함수이다\n",
    "    + rm(list=ls()): 전체 객체의 목록을 삭제하는 함수이다."
   ]
  },
  {
   "cell_type": "markdown",
   "metadata": {},
   "source": [
    "### 4. 데이터 조작\n",
    "1. 파일 입출력\n",
    "    + 함수\n",
    "    \n",
    "    \n",
    "2. 데이터 조작 관련 함수 (with iris & mtcars dataset)\n",
    "    + rbind, cbind\n",
    "    + apply 계열 함수\n",
    "    + 기타 함수\n",
    "\n",
    "\n",
    "3. 데이터 조작 관련 패키지"
   ]
  },
  {
   "cell_type": "markdown",
   "metadata": {},
   "source": [
    "1. 파일 입출력\n",
    "    + read.csv(file, header=TRUE, stringAsFactors=FALSE, na.strings=c(\"text\")) \n",
    "        + csv 파일을 불러오고, variable 명이 header에 있다면 TRUE, 없다면 FALSE로 입력하고\n",
    "        + 문자열의 경우 입력을 하게 될 경우 factor로 모두 묶이게 되는데 처음부터 문자열 타입으로 읽기 위해서 stringAsFactor를 FALSE로 설정을 해야 한다. \n",
    "        + 그리고 데이터마다 NA가 지정되어 있는 문자열이 있는데, 단순히 불러오게 될 경우 해당 문자열은 string으로 인식을 하게 된다. 그렇기 때문에 특정한 문자를 NA로 지정하기 위해서는 na.strings=c(어떤 텍스트)를 option으로 선택해야 한다.\n",
    "        \n",
    "\n",
    "2. save(), load()\n",
    "    + 데이터를 다양한 알고리즘으로 처리한 뒤 저장을 해야한다면 해당 내용을 R객체 그대로 저장을 할 수 있다. (.RData)\n",
    "    + save(x,y,z..., file=\"xy.RData\")\n",
    "    + x ~ z ...의 객체들을 xy.RData라는 파일로 모두 담아낸다는 의미이다.\n",
    "    + 이는 rm(list=ls())를 하여 객체를 모두 삭제 하였을 때, 바로 해당 객체들을 바로 불러 들일 수 있는 장점이 있다.\n",
    "        + load(\"xy.RData\")\n",
    "    + 이 경우 메모리에 할당되어 있는 R의 객체의 크기가 너무 클 경우 잠시 삭제하였다가 다시 불러 올 수 있도록 할 수 있겠다."
   ]
  },
  {
   "cell_type": "markdown",
   "metadata": {},
   "source": [
    "3. 데이터 조작 관련 함수\n",
    "    + rbind, cbind: row / column을 합치는 명령어이다. \n",
    "        + stringAsFactors 조건을 걸 수 있다. 일단 string type으로 rbind, cbind를 하게 될 경우 그 결과는 factor로 변하기 때문에 해당 조건을 걸어서 factor type으로 저장되는 것을 피할 수 있다.\n",
    "    + apply 계열 함수: apply()는 행렬의 행 또는 열 방향으로 특정 함수를 적용하는데 사용된다. \n",
    "        + apply(행렬, 방향, 함수) 형태로 호출이 된다. \n",
    "            + 방향은 1일 경우 \"행(row)\"\n",
    "            + 2일 경우 \"열\"(column)\"을 의미하게 된다. \n",
    "            + 이후 apply()를 적용한 결과는 벡터, 배열, 리스트 중 적합한 것으로 반환이 된다. \n",
    "        + 가장 많이 활용되는 경우가 rowSums(), colSums()를 할 수 있도록 apply(행렬, 방향, sum)을 거는 것이다.\n",
    "            + 여기서 sum의 경우 'sum'자체만 입력을 하여도 함수라고 인식을 하기 때문에 바로 해당 행렬의 방향에 따른 sum을 구할 수 있다. \n",
    "            + 이후 rowMeans(), colMeans()과 같은 경우도 mean을 통해 구할 수 있다. \n",
    "        \n",
    "        + lapply (list apply): lapply(X, 함수)의 형태로 호출하며, X는 vector 혹은 list이고, 함수는 X 내 개별 요소들에 대해 적용을 할 수 있다. \n",
    "            + lapply에 입력 할 수 있는 데이터 타입의 경우는 list, dataframe, vector 등이 곧바로 적용될 수 있다. 그러나 datafrmae에서 적용을 한 경우에는\n",
    "                + (1) unlist()\n",
    "                + (2) matrix()를 통해 벡터를 행렬로 변환\n",
    "                + (3) as.data.frame()을 통해 행렬을 데이터 프레임으로 변환\n",
    "                + (4) names()를 사용하여 리스트로부터 변수명을 얻어와서 데이터 프레임의 각 열에 이름을 부여하는 방식을 따라야 한다. \n",
    "            + 그러나 이 경우 문제가 있는데, vector type으로 반환을 하게 될 경우, vector 내에는 하나의 데이터 타입만 담을 수 있기 때문에 string / numeric의 value가 unlist를 하여 vector로 될 경우 모두 numeric으로 변환이 되어 버린다. \n",
    "                + 이 경우, 다양한 데이터 타입이 혼합된 경우 do.call()를 사용한다. \n",
    "                + 그러나 문제는 do.call 함수가 매우 느리다는 게 단점이기 때문에 여러 datatype을 아래와 같이 merge하기 위하여 do.call + rbind의 조합을 사용할 경우 시간 소비가 많기 때문에 \"rbindlist()\" 함수를 사용해야 한다. \n",
    "                \n",
    "        + sapply(): lappy와 유사하지만 리스트를 (1) 행렬, (2) 벡터 등으로 결과를 반환한다. 입력 할 수 있는 데이터 타입은 list, vector, dataframe 등이 있다. \n",
    "            + sapply의 경우는 데이터를 벡터를 반환한다. 이후 as.data.frame을 통해 data.frame으로 만들 수 있지만, 반환되는 데이터가 vector이기 때문에 해당 벡터를 transpose하여 진행을 해야 일반적인 형태의 data frame으로 만들 수 있다. \n",
    "            + sapply의 경우는 한 가지 타입만 저장가능하기 때문에 여러 데이터 타입의 섞여 있으면 안되다.\n",
    "                + 이 경우는 리스트를 반환하는 lappy() 혹은 plyr 패키지를 사용해야 한다.\n",
    "                \n",
    "        + tapply(): 그룹 별 처리를 위한 apply 함수로써 tapply(데이터, 색인, 함수)의 형태로 호출하며, \"색인\"은 데이터가 어느 그룹에 속하는지를 표현하기 위한 factor 형 데이터이다. 따라서 tapply의 경우는 factor의 그룹별로 주어진 함수를 수행한다. \n",
    "                \n",
    "        + mapply():sapply()와 유사하지만, mapply의 경우는 다수의 인자를 함수에 넘긴다는 데 차이가 있다."
   ]
  },
  {
   "cell_type": "code",
   "execution_count": 16,
   "metadata": {},
   "outputs": [
    {
     "name": "stdout",
     "output_type": "stream",
     "text": [
      "[[1]]\n",
      "[1] 2\n",
      "\n",
      "[[2]]\n",
      "[1] 4\n",
      "\n",
      "[[3]]\n",
      "[1] 6\n",
      "\n",
      "[1] 2 4 6\n"
     ]
    },
    {
     "data": {
      "text/html": [
       "<table>\n",
       "<thead><tr><th scope=col>name</th><th scope=col>value</th></tr></thead>\n",
       "<tbody>\n",
       "\t<tr><td>a</td><td>1</td></tr>\n",
       "\t<tr><td>b</td><td>2</td></tr>\n",
       "</tbody>\n",
       "</table>\n"
      ],
      "text/latex": [
       "\\begin{tabular}{r|ll}\n",
       " name & value\\\\\n",
       "\\hline\n",
       "\t a & 1\\\\\n",
       "\t b & 2\\\\\n",
       "\\end{tabular}\n"
      ],
      "text/markdown": [
       "\n",
       "name | value | \n",
       "|---|---|\n",
       "| a | 1 | \n",
       "| b | 2 | \n",
       "\n",
       "\n"
      ],
      "text/plain": [
       "  name value\n",
       "1 a    1    \n",
       "2 b    2    "
      ]
     },
     "metadata": {},
     "output_type": "display_data"
    },
    {
     "name": "stdout",
     "output_type": "stream",
     "text": [
      "FALSE  TRUE \n",
      "   30    25 \n",
      "[1] \"1a\" \"2b\" \"3c\"\n"
     ]
    }
   ],
   "source": [
    "# lapply\n",
    "result <- lapply(1:3, function(x){x*2})\n",
    "print(result)\n",
    "\n",
    "# 먼저, 1~3까지 list가 되어 개별 요소들이 2배씩 곱해진 뒤 반환이 되었다. 리스트를 풀어 벡터로 변환하기 위해서는 unlist()를 활용한다.\n",
    "print(unlist(result))\n",
    "\n",
    "x <- list(data.frame(name=\"a\",value=1),\n",
    "         data.frame(name=\"b\",value=2))\n",
    "do.call(rbind,x)\n",
    "\n",
    "\n",
    "# tapply\n",
    "print(tapply(1:10, 1:10 %% 2 ==1, sum))\n",
    "# 1 ~ 10중에 (1:10)을 각각 2씩 나누어서 나머지가 1 (홀수=TRUE)인지 0(짝수=FALSE)인지 구하고 이들을 각각 factor로 변환하여 \n",
    "# 해당 값들을 그룹으로 묶어서 sum 함수를 적용하는 것이다.\n",
    "\n",
    "# %%는 나머지를 구하고\n",
    "# %/%은 몫을 구한다.\n",
    "\n",
    "\n",
    "# mapply\n",
    "print(mapply(function(i,s){\n",
    "    sprintf(\"%d%s\",i,s)\n",
    "}, 1:3, c(\"a\",\"b\",\"c\")))\n",
    "\n",
    "# %d%s의 의미는 %d는 정수를 %s를 문자열을 의미한다.\n",
    "# sprintf()는 데이터를 문자열로 변환하는 데 사용하는 함수이다. \n",
    "# 이때 함수의 의미는 i와 s의 인자를 각각 합치고 문자열로 만들고 이를 벡터로 변환한다는 의미이다.\n",
    "# 1-a, 2-b, 3-c로 각각 매칭이 된다. "
   ]
  },
  {
   "cell_type": "markdown",
   "metadata": {},
   "source": [
    "**doBY 패키지** \n",
    "\n",
    "R에서 기본적으로 제공되는 패키지이며, summaryBy(), orderBy(), splitBy(), sampleBy() 등과 같이 특정 값에 따라 데이터를 처리하는 함수들이다. \n",
    "\n",
    "\" :: \"의 경우는 네임스페이스를 표현한다. 예컨대, base::summary()의 경우는 R의 base 패키지에 설치되어 있는 summary()를 호출한다는 뜻이다. summary()의 경우는 데이터 전체에 대한 통계 자료를 요약한다.\n",
    "\n",
    "quantile()을 통해서도 알 수 있다. \n",
    "+ quantile(요약하고자 하는 column 혹은 자료) \n",
    "+ 옵션이 없을 경우는 25% 단위로 보여주고, seq(0,1, by=0.1) 이라는 option을 걸게 되면 (quantile(X, seq(0,1,by=0.1)) 10% 단위로 데이터를 요약해준다. \n",
    "\n",
    "\n",
    "#### 해당 내용에 대해서는 아래의 iris 데이터 셋을 통해 관찰해보도록 한다. "
   ]
  },
  {
   "cell_type": "code",
   "execution_count": 24,
   "metadata": {},
   "outputs": [
    {
     "data": {
      "text/html": [
       "<table>\n",
       "<thead><tr><th scope=col>Sepal.Length</th><th scope=col>Sepal.Width</th><th scope=col>Petal.Length</th><th scope=col>Petal.Width</th><th scope=col>Species</th></tr></thead>\n",
       "<tbody>\n",
       "\t<tr><td>5.1   </td><td>3.5   </td><td>1.4   </td><td>0.2   </td><td>setosa</td></tr>\n",
       "\t<tr><td>4.9   </td><td>3.0   </td><td>1.4   </td><td>0.2   </td><td>setosa</td></tr>\n",
       "\t<tr><td>4.7   </td><td>3.2   </td><td>1.3   </td><td>0.2   </td><td>setosa</td></tr>\n",
       "\t<tr><td>4.6   </td><td>3.1   </td><td>1.5   </td><td>0.2   </td><td>setosa</td></tr>\n",
       "\t<tr><td>5.0   </td><td>3.6   </td><td>1.4   </td><td>0.2   </td><td>setosa</td></tr>\n",
       "\t<tr><td>5.4   </td><td>3.9   </td><td>1.7   </td><td>0.4   </td><td>setosa</td></tr>\n",
       "</tbody>\n",
       "</table>\n"
      ],
      "text/latex": [
       "\\begin{tabular}{r|lllll}\n",
       " Sepal.Length & Sepal.Width & Petal.Length & Petal.Width & Species\\\\\n",
       "\\hline\n",
       "\t 5.1    & 3.5    & 1.4    & 0.2    & setosa\\\\\n",
       "\t 4.9    & 3.0    & 1.4    & 0.2    & setosa\\\\\n",
       "\t 4.7    & 3.2    & 1.3    & 0.2    & setosa\\\\\n",
       "\t 4.6    & 3.1    & 1.5    & 0.2    & setosa\\\\\n",
       "\t 5.0    & 3.6    & 1.4    & 0.2    & setosa\\\\\n",
       "\t 5.4    & 3.9    & 1.7    & 0.4    & setosa\\\\\n",
       "\\end{tabular}\n"
      ],
      "text/markdown": [
       "\n",
       "Sepal.Length | Sepal.Width | Petal.Length | Petal.Width | Species | \n",
       "|---|---|---|---|---|---|\n",
       "| 5.1    | 3.5    | 1.4    | 0.2    | setosa | \n",
       "| 4.9    | 3.0    | 1.4    | 0.2    | setosa | \n",
       "| 4.7    | 3.2    | 1.3    | 0.2    | setosa | \n",
       "| 4.6    | 3.1    | 1.5    | 0.2    | setosa | \n",
       "| 5.0    | 3.6    | 1.4    | 0.2    | setosa | \n",
       "| 5.4    | 3.9    | 1.7    | 0.4    | setosa | \n",
       "\n",
       "\n"
      ],
      "text/plain": [
       "  Sepal.Length Sepal.Width Petal.Length Petal.Width Species\n",
       "1 5.1          3.5         1.4          0.2         setosa \n",
       "2 4.9          3.0         1.4          0.2         setosa \n",
       "3 4.7          3.2         1.3          0.2         setosa \n",
       "4 4.6          3.1         1.5          0.2         setosa \n",
       "5 5.0          3.6         1.4          0.2         setosa \n",
       "6 5.4          3.9         1.7          0.4         setosa "
      ]
     },
     "metadata": {},
     "output_type": "display_data"
    },
    {
     "name": "stdout",
     "output_type": "stream",
     "text": [
      "'data.frame':\t150 obs. of  5 variables:\n",
      " $ Sepal.Length: num  5.1 4.9 4.7 4.6 5 5.4 4.6 5 4.4 4.9 ...\n",
      " $ Sepal.Width : num  3.5 3 3.2 3.1 3.6 3.9 3.4 3.4 2.9 3.1 ...\n",
      " $ Petal.Length: num  1.4 1.4 1.3 1.5 1.4 1.7 1.4 1.5 1.4 1.5 ...\n",
      " $ Petal.Width : num  0.2 0.2 0.2 0.2 0.2 0.4 0.3 0.2 0.2 0.1 ...\n",
      " $ Species     : Factor w/ 3 levels \"setosa\",\"versicolor\",..: 1 1 1 1 1 1 1 1 1 1 ...\n"
     ]
    }
   ],
   "source": [
    "library(doBy) \n",
    "# 까먹지 말 것이, Jupyter Notebok에서 R 패키지를 쓰기 위해서는 \n",
    "# local에도 패키지가 설치되어 있고, conda command를 통해서도 r-패키지를 설치해야 한다는 것이다.\n",
    "\n",
    "head(iris)\n",
    "str(iris)\n",
    "# head(mtcars)\n",
    "# str(mtcars)"
   ]
  },
  {
   "cell_type": "code",
   "execution_count": 25,
   "metadata": {},
   "outputs": [
    {
     "data": {
      "text/html": [
       "<table>\n",
       "<thead><tr><th scope=col>Species</th><th scope=col>Sepal.Width.mean</th><th scope=col>Sepal.Length.mean</th></tr></thead>\n",
       "<tbody>\n",
       "\t<tr><td>setosa    </td><td>3.428     </td><td>5.006     </td></tr>\n",
       "\t<tr><td>versicolor</td><td>2.770     </td><td>5.936     </td></tr>\n",
       "\t<tr><td>virginica </td><td>2.974     </td><td>6.588     </td></tr>\n",
       "</tbody>\n",
       "</table>\n"
      ],
      "text/latex": [
       "\\begin{tabular}{r|lll}\n",
       " Species & Sepal.Width.mean & Sepal.Length.mean\\\\\n",
       "\\hline\n",
       "\t setosa     & 3.428      & 5.006     \\\\\n",
       "\t versicolor & 2.770      & 5.936     \\\\\n",
       "\t virginica  & 2.974      & 6.588     \\\\\n",
       "\\end{tabular}\n"
      ],
      "text/markdown": [
       "\n",
       "Species | Sepal.Width.mean | Sepal.Length.mean | \n",
       "|---|---|---|\n",
       "| setosa     | 3.428      | 5.006      | \n",
       "| versicolor | 2.770      | 5.936      | \n",
       "| virginica  | 2.974      | 6.588      | \n",
       "\n",
       "\n"
      ],
      "text/plain": [
       "  Species    Sepal.Width.mean Sepal.Length.mean\n",
       "1 setosa     3.428            5.006            \n",
       "2 versicolor 2.770            5.936            \n",
       "3 virginica  2.974            6.588            "
      ]
     },
     "metadata": {},
     "output_type": "display_data"
    },
    {
     "data": {
      "text/html": [
       "<table>\n",
       "<thead><tr><th></th><th scope=col>Sepal.Length</th><th scope=col>Sepal.Width</th><th scope=col>Petal.Length</th><th scope=col>Petal.Width</th><th scope=col>Species</th></tr></thead>\n",
       "<tbody>\n",
       "\t<tr><th scope=row>42</th><td>4.5   </td><td>2.3   </td><td>1.3   </td><td>0.3   </td><td>setosa</td></tr>\n",
       "\t<tr><th scope=row>9</th><td>4.4   </td><td>2.9   </td><td>1.4   </td><td>0.2   </td><td>setosa</td></tr>\n",
       "\t<tr><th scope=row>2</th><td>4.9   </td><td>3.0   </td><td>1.4   </td><td>0.2   </td><td>setosa</td></tr>\n",
       "\t<tr><th scope=row>13</th><td>4.8   </td><td>3.0   </td><td>1.4   </td><td>0.1   </td><td>setosa</td></tr>\n",
       "\t<tr><th scope=row>14</th><td>4.3   </td><td>3.0   </td><td>1.1   </td><td>0.1   </td><td>setosa</td></tr>\n",
       "</tbody>\n",
       "</table>\n"
      ],
      "text/latex": [
       "\\begin{tabular}{r|lllll}\n",
       "  & Sepal.Length & Sepal.Width & Petal.Length & Petal.Width & Species\\\\\n",
       "\\hline\n",
       "\t42 & 4.5    & 2.3    & 1.3    & 0.3    & setosa\\\\\n",
       "\t9 & 4.4    & 2.9    & 1.4    & 0.2    & setosa\\\\\n",
       "\t2 & 4.9    & 3.0    & 1.4    & 0.2    & setosa\\\\\n",
       "\t13 & 4.8    & 3.0    & 1.4    & 0.1    & setosa\\\\\n",
       "\t14 & 4.3    & 3.0    & 1.1    & 0.1    & setosa\\\\\n",
       "\\end{tabular}\n"
      ],
      "text/markdown": [
       "\n",
       "| <!--/--> | Sepal.Length | Sepal.Width | Petal.Length | Petal.Width | Species | \n",
       "|---|---|---|---|---|\n",
       "| 42 | 4.5    | 2.3    | 1.3    | 0.3    | setosa | \n",
       "| 9 | 4.4    | 2.9    | 1.4    | 0.2    | setosa | \n",
       "| 2 | 4.9    | 3.0    | 1.4    | 0.2    | setosa | \n",
       "| 13 | 4.8    | 3.0    | 1.4    | 0.1    | setosa | \n",
       "| 14 | 4.3    | 3.0    | 1.1    | 0.1    | setosa | \n",
       "\n",
       "\n"
      ],
      "text/plain": [
       "   Sepal.Length Sepal.Width Petal.Length Petal.Width Species\n",
       "42 4.5          2.3         1.3          0.3         setosa \n",
       "9  4.4          2.9         1.4          0.2         setosa \n",
       "2  4.9          3.0         1.4          0.2         setosa \n",
       "13 4.8          3.0         1.4          0.1         setosa \n",
       "14 4.3          3.0         1.1          0.1         setosa "
      ]
     },
     "metadata": {},
     "output_type": "display_data"
    },
    {
     "data": {
      "text/html": [
       "<table>\n",
       "<thead><tr><th></th><th scope=col>Sepal.Length</th><th scope=col>Sepal.Width</th><th scope=col>Petal.Length</th><th scope=col>Petal.Width</th><th scope=col>Species</th></tr></thead>\n",
       "<tbody>\n",
       "\t<tr><th scope=row>42</th><td>4.5   </td><td>2.3   </td><td>1.3   </td><td>0.3   </td><td>setosa</td></tr>\n",
       "\t<tr><th scope=row>9</th><td>4.4   </td><td>2.9   </td><td>1.4   </td><td>0.2   </td><td>setosa</td></tr>\n",
       "\t<tr><th scope=row>2</th><td>4.9   </td><td>3.0   </td><td>1.4   </td><td>0.2   </td><td>setosa</td></tr>\n",
       "\t<tr><th scope=row>13</th><td>4.8   </td><td>3.0   </td><td>1.4   </td><td>0.1   </td><td>setosa</td></tr>\n",
       "\t<tr><th scope=row>14</th><td>4.3   </td><td>3.0   </td><td>1.1   </td><td>0.1   </td><td>setosa</td></tr>\n",
       "</tbody>\n",
       "</table>\n"
      ],
      "text/latex": [
       "\\begin{tabular}{r|lllll}\n",
       "  & Sepal.Length & Sepal.Width & Petal.Length & Petal.Width & Species\\\\\n",
       "\\hline\n",
       "\t42 & 4.5    & 2.3    & 1.3    & 0.3    & setosa\\\\\n",
       "\t9 & 4.4    & 2.9    & 1.4    & 0.2    & setosa\\\\\n",
       "\t2 & 4.9    & 3.0    & 1.4    & 0.2    & setosa\\\\\n",
       "\t13 & 4.8    & 3.0    & 1.4    & 0.1    & setosa\\\\\n",
       "\t14 & 4.3    & 3.0    & 1.1    & 0.1    & setosa\\\\\n",
       "\\end{tabular}\n"
      ],
      "text/markdown": [
       "\n",
       "| <!--/--> | Sepal.Length | Sepal.Width | Petal.Length | Petal.Width | Species | \n",
       "|---|---|---|---|---|\n",
       "| 42 | 4.5    | 2.3    | 1.3    | 0.3    | setosa | \n",
       "| 9 | 4.4    | 2.9    | 1.4    | 0.2    | setosa | \n",
       "| 2 | 4.9    | 3.0    | 1.4    | 0.2    | setosa | \n",
       "| 13 | 4.8    | 3.0    | 1.4    | 0.1    | setosa | \n",
       "| 14 | 4.3    | 3.0    | 1.1    | 0.1    | setosa | \n",
       "\n",
       "\n"
      ],
      "text/plain": [
       "   Sepal.Length Sepal.Width Petal.Length Petal.Width Species\n",
       "42 4.5          2.3         1.3          0.3         setosa \n",
       "9  4.4          2.9         1.4          0.2         setosa \n",
       "2  4.9          3.0         1.4          0.2         setosa \n",
       "13 4.8          3.0         1.4          0.1         setosa \n",
       "14 4.3          3.0         1.1          0.1         setosa "
      ]
     },
     "metadata": {},
     "output_type": "display_data"
    },
    {
     "data": {
      "text/html": [
       "<ol class=list-inline>\n",
       "\t<li>42</li>\n",
       "\t<li>9</li>\n",
       "\t<li>2</li>\n",
       "\t<li>13</li>\n",
       "\t<li>14</li>\n",
       "</ol>\n"
      ],
      "text/latex": [
       "\\begin{enumerate*}\n",
       "\\item 42\n",
       "\\item 9\n",
       "\\item 2\n",
       "\\item 13\n",
       "\\item 14\n",
       "\\end{enumerate*}\n"
      ],
      "text/markdown": [
       "1. 42\n",
       "2. 9\n",
       "3. 2\n",
       "4. 13\n",
       "5. 14\n",
       "\n",
       "\n"
      ],
      "text/plain": [
       "[1] 42  9  2 13 14"
      ]
     },
     "metadata": {},
     "output_type": "display_data"
    }
   ],
   "source": [
    "summaryBy(Sepal.Width+Sepal.Length ~ Species, iris) # Species를 기준으로 SW와 SL에 대한 요약\n",
    "head(orderBy( ~ Species + Sepal.Width, iris),5) # Species -> Sepal.width 순으로 ordering\n",
    "\n",
    "# 기본 패키지 중에 order가 있는데 같은 내용을 반환하기 위해서는\n",
    "head(iris[order(iris$Species, iris$Sepal.Width),],5) #으로 해야한다.\n",
    "\n",
    "# 단순히 \n",
    "head(order(iris$Species, iris$Sepal.Width),5)\n",
    "# 를 하게 되면 해당 order의 '순서 값'만을 반환하게 되기 때문에 해당 행 값들을 iris[] 내에 입력을 해야 한다.\n",
    "# 그래야 iris[참조 행]과 관련한 데이터를 반환하기 때문이다.\n",
    "# 그래서 좀 더 복잡하지만, 기본 패키지라서 쓴다."
   ]
  },
  {
   "cell_type": "markdown",
   "metadata": {},
   "source": [
    "### 샘플링과 관련한 함수\n",
    "- sample / sampleBy"
   ]
  },
  {
   "cell_type": "code",
   "execution_count": 30,
   "metadata": {},
   "outputs": [
    {
     "name": "stdout",
     "output_type": "stream",
     "text": [
      "[1] 6 8 1 3 9\n",
      " [1]  9  8  6  4  3  2  7  5 10  1\n"
     ]
    },
    {
     "data": {
      "text/html": [
       "<table>\n",
       "<thead><tr><th></th><th scope=col>Sepal.Length</th><th scope=col>Sepal.Width</th><th scope=col>Petal.Length</th><th scope=col>Petal.Width</th><th scope=col>Species</th></tr></thead>\n",
       "<tbody>\n",
       "\t<tr><th scope=row>14</th><td>4.3       </td><td>3.0       </td><td>1.1       </td><td>0.1       </td><td>setosa    </td></tr>\n",
       "\t<tr><th scope=row>82</th><td>5.5       </td><td>2.4       </td><td>3.7       </td><td>1.0       </td><td>versicolor</td></tr>\n",
       "\t<tr><th scope=row>110</th><td>7.2       </td><td>3.6       </td><td>6.1       </td><td>2.5       </td><td>virginica </td></tr>\n",
       "\t<tr><th scope=row>101</th><td>6.3       </td><td>3.3       </td><td>6.0       </td><td>2.5       </td><td>virginica </td></tr>\n",
       "\t<tr><th scope=row>40</th><td>5.1       </td><td>3.4       </td><td>1.5       </td><td>0.2       </td><td>setosa    </td></tr>\n",
       "\t<tr><th scope=row>121</th><td>6.9       </td><td>3.2       </td><td>5.7       </td><td>2.3       </td><td>virginica </td></tr>\n",
       "\t<tr><th scope=row>52</th><td>6.4       </td><td>3.2       </td><td>4.5       </td><td>1.5       </td><td>versicolor</td></tr>\n",
       "\t<tr><th scope=row>3</th><td>4.7       </td><td>3.2       </td><td>1.3       </td><td>0.2       </td><td>setosa    </td></tr>\n",
       "\t<tr><th scope=row>19</th><td>5.7       </td><td>3.8       </td><td>1.7       </td><td>0.3       </td><td>setosa    </td></tr>\n",
       "\t<tr><th scope=row>49</th><td>5.3       </td><td>3.7       </td><td>1.5       </td><td>0.2       </td><td>setosa    </td></tr>\n",
       "</tbody>\n",
       "</table>\n"
      ],
      "text/latex": [
       "\\begin{tabular}{r|lllll}\n",
       "  & Sepal.Length & Sepal.Width & Petal.Length & Petal.Width & Species\\\\\n",
       "\\hline\n",
       "\t14 & 4.3        & 3.0        & 1.1        & 0.1        & setosa    \\\\\n",
       "\t82 & 5.5        & 2.4        & 3.7        & 1.0        & versicolor\\\\\n",
       "\t110 & 7.2        & 3.6        & 6.1        & 2.5        & virginica \\\\\n",
       "\t101 & 6.3        & 3.3        & 6.0        & 2.5        & virginica \\\\\n",
       "\t40 & 5.1        & 3.4        & 1.5        & 0.2        & setosa    \\\\\n",
       "\t121 & 6.9        & 3.2        & 5.7        & 2.3        & virginica \\\\\n",
       "\t52 & 6.4        & 3.2        & 4.5        & 1.5        & versicolor\\\\\n",
       "\t3 & 4.7        & 3.2        & 1.3        & 0.2        & setosa    \\\\\n",
       "\t19 & 5.7        & 3.8        & 1.7        & 0.3        & setosa    \\\\\n",
       "\t49 & 5.3        & 3.7        & 1.5        & 0.2        & setosa    \\\\\n",
       "\\end{tabular}\n"
      ],
      "text/markdown": [
       "\n",
       "| <!--/--> | Sepal.Length | Sepal.Width | Petal.Length | Petal.Width | Species | \n",
       "|---|---|---|---|---|---|---|---|---|---|\n",
       "| 14 | 4.3        | 3.0        | 1.1        | 0.1        | setosa     | \n",
       "| 82 | 5.5        | 2.4        | 3.7        | 1.0        | versicolor | \n",
       "| 110 | 7.2        | 3.6        | 6.1        | 2.5        | virginica  | \n",
       "| 101 | 6.3        | 3.3        | 6.0        | 2.5        | virginica  | \n",
       "| 40 | 5.1        | 3.4        | 1.5        | 0.2        | setosa     | \n",
       "| 121 | 6.9        | 3.2        | 5.7        | 2.3        | virginica  | \n",
       "| 52 | 6.4        | 3.2        | 4.5        | 1.5        | versicolor | \n",
       "| 3 | 4.7        | 3.2        | 1.3        | 0.2        | setosa     | \n",
       "| 19 | 5.7        | 3.8        | 1.7        | 0.3        | setosa     | \n",
       "| 49 | 5.3        | 3.7        | 1.5        | 0.2        | setosa     | \n",
       "\n",
       "\n"
      ],
      "text/plain": [
       "    Sepal.Length Sepal.Width Petal.Length Petal.Width Species   \n",
       "14  4.3          3.0         1.1          0.1         setosa    \n",
       "82  5.5          2.4         3.7          1.0         versicolor\n",
       "110 7.2          3.6         6.1          2.5         virginica \n",
       "101 6.3          3.3         6.0          2.5         virginica \n",
       "40  5.1          3.4         1.5          0.2         setosa    \n",
       "121 6.9          3.2         5.7          2.3         virginica \n",
       "52  6.4          3.2         4.5          1.5         versicolor\n",
       "3   4.7          3.2         1.3          0.2         setosa    \n",
       "19  5.7          3.8         1.7          0.3         setosa    \n",
       "49  5.3          3.7         1.5          0.2         setosa    "
      ]
     },
     "metadata": {},
     "output_type": "display_data"
    },
    {
     "ename": "ERROR",
     "evalue": "Error in sampleBy(~Species, frac = 0.1, data = iris): 함수 \"sampleBy\"를 찾을 수 없습니다\n",
     "output_type": "error",
     "traceback": [
      "Error in sampleBy(~Species, frac = 0.1, data = iris): 함수 \"sampleBy\"를 찾을 수 없습니다\nTraceback:\n"
     ]
    }
   ],
   "source": [
    "# 기본 패키지 내의 sample은 random 추출만을 가능하게 한다.\n",
    "print(sample(1:10, 5, replace=TRUE)) # replace는 중복 추출을 허용한다는 뜻이다. \n",
    "print(sample(1:10, 10)) # 랜덤하게 순서를 나열할 것이다. \n",
    "\n",
    "# 따라서 \n",
    "head(iris[sample(NROW(iris),NROW(iris)),],10) \n",
    "#을 설정하게 된다면 iris dataset의 전체 행수만큼 나열을 하게 되어 전체 데이터를 랜덤하게 섞는다는 뜻이 된다.\n",
    "\n",
    "# 그러나 sample은 그야말로 random 추출이기 때문에 군집을 설정하여 추출하기 위해서는 sampleBy와 같은 함수를 사용한다.\n",
    "sampleBy(~ Species, frac=0.1, data=iris)\n",
    "# 뭔가 오류가 나서 현재 반환은 안되지만, 의미하는건 Species라는 factor 상에서 10%씩 임의로 추출하라는 뜻이다."
   ]
  },
  {
   "cell_type": "code",
   "execution_count": 38,
   "metadata": {},
   "outputs": [
    {
     "data": {
      "text/html": [
       "<dl>\n",
       "\t<dt>$setosa</dt>\n",
       "\t\t<dd>5.006</dd>\n",
       "\t<dt>$versicolor</dt>\n",
       "\t\t<dd>5.936</dd>\n",
       "\t<dt>$virginica</dt>\n",
       "\t\t<dd>6.588</dd>\n",
       "</dl>\n"
      ],
      "text/latex": [
       "\\begin{description}\n",
       "\\item[\\$setosa] 5.006\n",
       "\\item[\\$versicolor] 5.936\n",
       "\\item[\\$virginica] 6.588\n",
       "\\end{description}\n"
      ],
      "text/markdown": [
       "$setosa\n",
       ":   5.006\n",
       "$versicolor\n",
       ":   5.936\n",
       "$virginica\n",
       ":   6.588\n",
       "\n",
       "\n"
      ],
      "text/plain": [
       "$setosa\n",
       "[1] 5.006\n",
       "\n",
       "$versicolor\n",
       "[1] 5.936\n",
       "\n",
       "$virginica\n",
       "[1] 6.588\n"
      ]
     },
     "metadata": {},
     "output_type": "display_data"
    },
    {
     "data": {
      "text/html": [
       "<table>\n",
       "<thead><tr><th></th><th scope=col>Sepal.Length</th><th scope=col>Sepal.Width</th><th scope=col>Petal.Length</th><th scope=col>Petal.Width</th><th scope=col>Species</th></tr></thead>\n",
       "<tbody>\n",
       "\t<tr><th scope=row>1</th><td>5.1   </td><td>3.5   </td><td>1.4   </td><td>0.2   </td><td>setosa</td></tr>\n",
       "\t<tr><th scope=row>5</th><td>5.0   </td><td>3.6   </td><td>1.4   </td><td>0.2   </td><td>setosa</td></tr>\n",
       "\t<tr><th scope=row>6</th><td>5.4   </td><td>3.9   </td><td>1.7   </td><td>0.4   </td><td>setosa</td></tr>\n",
       "\t<tr><th scope=row>8</th><td>5.0   </td><td>3.4   </td><td>1.5   </td><td>0.2   </td><td>setosa</td></tr>\n",
       "\t<tr><th scope=row>11</th><td>5.4   </td><td>3.7   </td><td>1.5   </td><td>0.2   </td><td>setosa</td></tr>\n",
       "</tbody>\n",
       "</table>\n"
      ],
      "text/latex": [
       "\\begin{tabular}{r|lllll}\n",
       "  & Sepal.Length & Sepal.Width & Petal.Length & Petal.Width & Species\\\\\n",
       "\\hline\n",
       "\t1 & 5.1    & 3.5    & 1.4    & 0.2    & setosa\\\\\n",
       "\t5 & 5.0    & 3.6    & 1.4    & 0.2    & setosa\\\\\n",
       "\t6 & 5.4    & 3.9    & 1.7    & 0.4    & setosa\\\\\n",
       "\t8 & 5.0    & 3.4    & 1.5    & 0.2    & setosa\\\\\n",
       "\t11 & 5.4    & 3.7    & 1.5    & 0.2    & setosa\\\\\n",
       "\\end{tabular}\n"
      ],
      "text/markdown": [
       "\n",
       "| <!--/--> | Sepal.Length | Sepal.Width | Petal.Length | Petal.Width | Species | \n",
       "|---|---|---|---|---|\n",
       "| 1 | 5.1    | 3.5    | 1.4    | 0.2    | setosa | \n",
       "| 5 | 5.0    | 3.6    | 1.4    | 0.2    | setosa | \n",
       "| 6 | 5.4    | 3.9    | 1.7    | 0.4    | setosa | \n",
       "| 8 | 5.0    | 3.4    | 1.5    | 0.2    | setosa | \n",
       "| 11 | 5.4    | 3.7    | 1.5    | 0.2    | setosa | \n",
       "\n",
       "\n"
      ],
      "text/plain": [
       "   Sepal.Length Sepal.Width Petal.Length Petal.Width Species\n",
       "1  5.1          3.5         1.4          0.2         setosa \n",
       "5  5.0          3.6         1.4          0.2         setosa \n",
       "6  5.4          3.9         1.7          0.4         setosa \n",
       "8  5.0          3.4         1.5          0.2         setosa \n",
       "11 5.4          3.7         1.5          0.2         setosa "
      ]
     },
     "metadata": {},
     "output_type": "display_data"
    },
    {
     "data": {
      "text/html": [
       "<table>\n",
       "<thead><tr><th scope=col>Sepal.Length</th><th scope=col>Species</th></tr></thead>\n",
       "<tbody>\n",
       "\t<tr><td>5.1   </td><td>setosa</td></tr>\n",
       "\t<tr><td>4.9   </td><td>setosa</td></tr>\n",
       "\t<tr><td>4.7   </td><td>setosa</td></tr>\n",
       "\t<tr><td>4.6   </td><td>setosa</td></tr>\n",
       "\t<tr><td>5.0   </td><td>setosa</td></tr>\n",
       "</tbody>\n",
       "</table>\n"
      ],
      "text/latex": [
       "\\begin{tabular}{r|ll}\n",
       " Sepal.Length & Species\\\\\n",
       "\\hline\n",
       "\t 5.1    & setosa\\\\\n",
       "\t 4.9    & setosa\\\\\n",
       "\t 4.7    & setosa\\\\\n",
       "\t 4.6    & setosa\\\\\n",
       "\t 5.0    & setosa\\\\\n",
       "\\end{tabular}\n"
      ],
      "text/markdown": [
       "\n",
       "Sepal.Length | Species | \n",
       "|---|---|---|---|---|\n",
       "| 5.1    | setosa | \n",
       "| 4.9    | setosa | \n",
       "| 4.7    | setosa | \n",
       "| 4.6    | setosa | \n",
       "| 5.0    | setosa | \n",
       "\n",
       "\n"
      ],
      "text/plain": [
       "  Sepal.Length Species\n",
       "1 5.1          setosa \n",
       "2 4.9          setosa \n",
       "3 4.7          setosa \n",
       "4 4.6          setosa \n",
       "5 5.0          setosa "
      ]
     },
     "metadata": {},
     "output_type": "display_data"
    }
   ],
   "source": [
    "# head(split(iris,iris$Species)) # iris$Species 별로 묶어서 데이터를 분리한다는 뜻이다. 반환은 리스트로 된다. \n",
    "# 현재 데이터 반환의 길이가 길어 생략\n",
    "\n",
    "lapply(split(iris$Sepal.Length, iris$Species),mean)\n",
    "# 이 경우 iris$Species를 묶어서 데이터를 나눈 다음, iris$Sepal.Length에 대한 mean을 list로 반환한다는 뜻이 된다.\n",
    "\n",
    "head(subset(iris, Species==\"setosa\" & Sepal.Length >=5.0),5)\n",
    "# setosa 이면서 SW가 5 이상인 경우만 subset한다는 뜻\n",
    "\n",
    "head(subset(iris, select=c(Sepal.Length, Species)),5)\n",
    "# select의 조건은 특정 column을 넣거나 빼서 볼 수 있다. (-c(~~,~~)의 경우는 ~~를 제외한다는 뜻이다)"
   ]
  },
  {
   "cell_type": "markdown",
   "metadata": {},
   "source": [
    "## merge() 함수\n",
    "\n",
    "공통된 값을 기준으로 묶는 함수로써 데이터베이스에서 join과 같은 역할을 한다. (key id)\n",
    "\n",
    "cbind는 단순히 column을 옆에 붙이는 것이지만, merge는 key value를 기준으로 합친다 (excel: vlookup, STATA: merge)\n",
    "\n",
    "e.g., merge(x, y, all=TRUE)\n",
    "+ 이 경우는 x와 y를 합치지만, 두 데이터 사이에 일치하는 key 가 없을 때 NA를 만들어서라도 전체 데이터 셋을 만들어 버린다는 의미이다. "
   ]
  },
  {
   "cell_type": "markdown",
   "metadata": {},
   "source": [
    "## sort(), order() 함수\n",
    "\n",
    "sort(x)는 x 벡터 그 자체를 정렬한다. (낮은 순 -> 높은 순)\n",
    "\n",
    "sort(x, decreasing=TRUE) (높은 순 -> 낮은 순)\n",
    "\n",
    "**그러나 sort 함수는 정렬한 결과를 반환할 뿐이지 인자로 받은 데이터 자체를 변경하지 않는다**\n",
    "\n",
    "order(x)는 주어진 인자를 정렬하기 위한 각 요소의 색인을 반환한다. 다음의 예를 살펴본다."
   ]
  },
  {
   "cell_type": "code",
   "execution_count": 40,
   "metadata": {},
   "outputs": [
    {
     "name": "stdout",
     "output_type": "stream",
     "text": [
      "[1] 1 2 5 4 3\n",
      "[1]    5   20   22  125 2012\n",
      "[1] 2012  125   22   20    5\n"
     ]
    }
   ],
   "source": [
    "x <- c(5, 20, 2012, 125, 22)\n",
    "print(order(x))\n",
    "# 각 요소의 값이 전체 벡터 내에서 몇 번째에 위치하는지를 보여준다.\n",
    "\n",
    "# 따라서 해당 벡터를 정렬하기 위해서는\n",
    "print(x[order(x)])\n",
    "\n",
    "print(x[order(-x)]) # decreasing"
   ]
  },
  {
   "cell_type": "markdown",
   "metadata": {},
   "source": [
    "## with(), within() 함수 \n",
    "#### - (서민구, 2014 p.109 ~ 112 참고) - attach 등으로 해결 가능\n",
    "## attach(), detach() 함수\n",
    "attach(iris)를 하게 될 경우 iris의 데이터 셋 자체를 메모리에 올려 놓는다. 이후 해당 데이터 셋의 변수 명을 그대로 사용하여도 된다. detach()는 그 반대\n",
    "## which(), which.max(), which.min() 함수\n",
    "- 아래 R 코드 참고\n",
    "\n",
    "## aggregate()\n",
    "- 보다 일반적인 그룹별 연산을 위한 함수이다 (aggregate(데이터, 그룹 조건, 함수) 혹은 aggregate(formula, 데이터, 함수) \n",
    "- 아래 R코드 참고\n",
    "\n",
    "## stack(), unstack()\n",
    "#### - (서민구, 2014, p.114 ~ 116 참고)\n",
    "일반적으로 Case-Control 과 관련한 데이터를 처리 할 때 사용하는 것 같다.\n",
    "\n",
    "## RMySQL - 향후 참고 (MySQL을 사용할 때)\n",
    "#### - (서민구, 2014, p.117 ~ 참고)"
   ]
  },
  {
   "cell_type": "code",
   "execution_count": 46,
   "metadata": {},
   "outputs": [
    {
     "name": "stdout",
     "output_type": "stream",
     "text": [
      "[1] 0 0 0 1 1\n",
      "[1] 1 2 3\n",
      "[1] 2 4 6\n",
      "[1] 2\n",
      "[1] 9\n",
      "[1] -9\n",
      "[1] -2\n"
     ]
    }
   ],
   "source": [
    "# which()는 벡터 또는 배열에서 주어진 조건을 만족하는 값이 있는 곳의 색인을 찾는다.\n",
    "x <- c(2,4,6,7,9)\n",
    "print(x%%2) # x를 2로 나눈 나머지 반환\n",
    "print(which(x%%2==0)) # 짝수인 경우의 위치 출력\n",
    "print(x[which(x%%2 ==0)]) # 짝수인 경우만 x에 남기기 (변수 자체를 변경)\n",
    "\n",
    "# which.min / which.max의 경우는 다양한 모델을 만들어두고 이 중에서 최소, 최대에 해당하는 경우만 추출 할 수 있다.\n",
    "# 예컨대, 머신러닝 모델을 만든 뒤 모델의 우도(likelihood)를 벡터에 저장했다면\n",
    "# 해당 벡터 중에서 max/min을 통하여 모델을 검색해 낼 수 있다. \n",
    "\n",
    "x <- c(2,4,6,7,9)\n",
    "print(sort(x)[1]) # = which.min()\n",
    "print(-sort(-x)[1]) # = which.max()\n",
    "print(sort(-x)[1]) # 이는 x 벡터에 -1을 모두 곱한 뒤, sort (최소 ~ 최대)를 의미한다. 따라서 -9가 반환된다.\n",
    "print(-sort(x)[1]) # 이는 벡터를 sort하고 난 뒤에 해당 인자 위치에 -1을 곱하는 것을 의미한다. "
   ]
  },
  {
   "cell_type": "code",
   "execution_count": 48,
   "metadata": {},
   "outputs": [
    {
     "data": {
      "text/html": [
       "<table>\n",
       "<thead><tr><th scope=col>Species</th><th scope=col>Sepal.Width</th></tr></thead>\n",
       "<tbody>\n",
       "\t<tr><td>setosa    </td><td>3.428     </td></tr>\n",
       "\t<tr><td>versicolor</td><td>2.770     </td></tr>\n",
       "\t<tr><td>virginica </td><td>2.974     </td></tr>\n",
       "</tbody>\n",
       "</table>\n"
      ],
      "text/latex": [
       "\\begin{tabular}{r|ll}\n",
       " Species & Sepal.Width\\\\\n",
       "\\hline\n",
       "\t setosa     & 3.428     \\\\\n",
       "\t versicolor & 2.770     \\\\\n",
       "\t virginica  & 2.974     \\\\\n",
       "\\end{tabular}\n"
      ],
      "text/markdown": [
       "\n",
       "Species | Sepal.Width | \n",
       "|---|---|---|\n",
       "| setosa     | 3.428      | \n",
       "| versicolor | 2.770      | \n",
       "| virginica  | 2.974      | \n",
       "\n",
       "\n"
      ],
      "text/plain": [
       "  Species    Sepal.Width\n",
       "1 setosa     3.428      \n",
       "2 versicolor 2.770      \n",
       "3 virginica  2.974      "
      ]
     },
     "metadata": {},
     "output_type": "display_data"
    }
   ],
   "source": [
    "aggregate(Sepal.Width ~ Species, iris, mean)\n",
    "# iris의 데이터 중에서 Species라는 그룹을 묶은 뒤, Sepal.Width에 대한 mean을 aggregate한다는 뜻이다."
   ]
  },
  {
   "cell_type": "code",
   "execution_count": 143,
   "metadata": {},
   "outputs": [
    {
     "data": {
      "text/html": [
       "TRUE"
      ],
      "text/latex": [
       "TRUE"
      ],
      "text/markdown": [
       "TRUE"
      ],
      "text/plain": [
       "[1] TRUE"
      ]
     },
     "metadata": {},
     "output_type": "display_data"
    },
    {
     "data": {
      "text/html": [
       "3"
      ],
      "text/latex": [
       "3"
      ],
      "text/markdown": [
       "3"
      ],
      "text/plain": [
       "[1] 3"
      ]
     },
     "metadata": {},
     "output_type": "display_data"
    },
    {
     "data": {
      "text/html": [
       "TRUE"
      ],
      "text/latex": [
       "TRUE"
      ],
      "text/markdown": [
       "TRUE"
      ],
      "text/plain": [
       "[1] TRUE"
      ]
     },
     "metadata": {},
     "output_type": "display_data"
    },
    {
     "data": {
      "text/html": [
       "<ol class=list-inline>\n",
       "\t<li>setosa</li>\n",
       "\t<li>virginica</li>\n",
       "\t<li>versicolor</li>\n",
       "\t<li>setosa</li>\n",
       "\t<li>virginica</li>\n",
       "</ol>\n",
       "\n",
       "<details>\n",
       "\t<summary style=display:list-item;cursor:pointer>\n",
       "\t\t<strong>Levels</strong>:\n",
       "\t</summary>\n",
       "\t<ol class=list-inline>\n",
       "\t\t<li>'setosa'</li>\n",
       "\t\t<li>'versicolor'</li>\n",
       "\t\t<li>'virginica'</li>\n",
       "\t</ol>\n",
       "</details>"
      ],
      "text/latex": [
       "\\begin{enumerate*}\n",
       "\\item setosa\n",
       "\\item virginica\n",
       "\\item versicolor\n",
       "\\item setosa\n",
       "\\item virginica\n",
       "\\end{enumerate*}\n",
       "\n",
       "\\emph{Levels}: \\begin{enumerate*}\n",
       "\\item 'setosa'\n",
       "\\item 'versicolor'\n",
       "\\item 'virginica'\n",
       "\\end{enumerate*}\n"
      ],
      "text/markdown": [
       "1. setosa\n",
       "2. virginica\n",
       "3. versicolor\n",
       "4. setosa\n",
       "5. virginica\n",
       "\n",
       "\n",
       "\n",
       "**Levels**: 1. 'setosa'\n",
       "2. 'versicolor'\n",
       "3. 'virginica'\n",
       "\n",
       "\n"
      ],
      "text/plain": [
       "[1] setosa     virginica  versicolor setosa     virginica \n",
       "Levels: setosa < versicolor < virginica"
      ]
     },
     "metadata": {},
     "output_type": "display_data"
    }
   ],
   "source": [
    "# attach(iris) # iris dataset을 검색 경로에 올려놓아 변수명으로 바로 접근 할 수 있다. \n",
    "# attach(mtcars)\n",
    "\n",
    "# factor 연습\n",
    "is.factor(iris$Species)\n",
    "nlevels(iris$Species) # 모든 범주의 목록을 반환한다.\n",
    "iris$Species <- ordered(c(\"setosa\",\"virginica\",\"versicolor\")) # factor를 -> 순서대로 ordering한다. 이후 iris$Species에 넣었다.\n",
    "is.ordered(iris$Species)\n",
    "head(iris$Species,5) # ordering을 할 경우 범주화된 순서대로 데이터가 재배열 되는 듯?"
   ]
  },
  {
   "cell_type": "code",
   "execution_count": 20,
   "metadata": {},
   "outputs": [
    {
     "data": {
      "text/html": [
       "<table>\n",
       "<thead><tr><th scope=col>Sepal.Length</th><th scope=col>Sepal.Width</th><th scope=col>Petal.Length</th><th scope=col>Petal.Width</th><th scope=col>Species</th></tr></thead>\n",
       "<tbody>\n",
       "\t<tr><td>5.1       </td><td>3.5       </td><td>1.4       </td><td>0.2       </td><td>setosa    </td></tr>\n",
       "\t<tr><td>4.9       </td><td>3.0       </td><td>1.4       </td><td>0.2       </td><td>virginica </td></tr>\n",
       "\t<tr><td>4.7       </td><td>3.2       </td><td>1.3       </td><td>0.2       </td><td>versicolor</td></tr>\n",
       "\t<tr><td>4.6       </td><td>3.1       </td><td>1.5       </td><td>0.2       </td><td>setosa    </td></tr>\n",
       "\t<tr><td>5.0       </td><td>3.6       </td><td>1.4       </td><td>0.2       </td><td>virginica </td></tr>\n",
       "\t<tr><td>5.4       </td><td>3.9       </td><td>1.7       </td><td>0.4       </td><td>versicolor</td></tr>\n",
       "\t<tr><td>4.6       </td><td>3.4       </td><td>1.4       </td><td>0.3       </td><td>setosa    </td></tr>\n",
       "\t<tr><td>5.0       </td><td>3.4       </td><td>1.5       </td><td>0.2       </td><td>virginica </td></tr>\n",
       "\t<tr><td>4.4       </td><td>2.9       </td><td>1.4       </td><td>0.2       </td><td>versicolor</td></tr>\n",
       "</tbody>\n",
       "</table>\n"
      ],
      "text/latex": [
       "\\begin{tabular}{r|lllll}\n",
       " Sepal.Length & Sepal.Width & Petal.Length & Petal.Width & Species\\\\\n",
       "\\hline\n",
       "\t 5.1        & 3.5        & 1.4        & 0.2        & setosa    \\\\\n",
       "\t 4.9        & 3.0        & 1.4        & 0.2        & virginica \\\\\n",
       "\t 4.7        & 3.2        & 1.3        & 0.2        & versicolor\\\\\n",
       "\t 4.6        & 3.1        & 1.5        & 0.2        & setosa    \\\\\n",
       "\t 5.0        & 3.6        & 1.4        & 0.2        & virginica \\\\\n",
       "\t 5.4        & 3.9        & 1.7        & 0.4        & versicolor\\\\\n",
       "\t 4.6        & 3.4        & 1.4        & 0.3        & setosa    \\\\\n",
       "\t 5.0        & 3.4        & 1.5        & 0.2        & virginica \\\\\n",
       "\t 4.4        & 2.9        & 1.4        & 0.2        & versicolor\\\\\n",
       "\\end{tabular}\n"
      ],
      "text/markdown": [
       "\n",
       "Sepal.Length | Sepal.Width | Petal.Length | Petal.Width | Species | \n",
       "|---|---|---|---|---|---|---|---|---|\n",
       "| 5.1        | 3.5        | 1.4        | 0.2        | setosa     | \n",
       "| 4.9        | 3.0        | 1.4        | 0.2        | virginica  | \n",
       "| 4.7        | 3.2        | 1.3        | 0.2        | versicolor | \n",
       "| 4.6        | 3.1        | 1.5        | 0.2        | setosa     | \n",
       "| 5.0        | 3.6        | 1.4        | 0.2        | virginica  | \n",
       "| 5.4        | 3.9        | 1.7        | 0.4        | versicolor | \n",
       "| 4.6        | 3.4        | 1.4        | 0.3        | setosa     | \n",
       "| 5.0        | 3.4        | 1.5        | 0.2        | virginica  | \n",
       "| 4.4        | 2.9        | 1.4        | 0.2        | versicolor | \n",
       "\n",
       "\n"
      ],
      "text/plain": [
       "  Sepal.Length Sepal.Width Petal.Length Petal.Width Species   \n",
       "1 5.1          3.5         1.4          0.2         setosa    \n",
       "2 4.9          3.0         1.4          0.2         virginica \n",
       "3 4.7          3.2         1.3          0.2         versicolor\n",
       "4 4.6          3.1         1.5          0.2         setosa    \n",
       "5 5.0          3.6         1.4          0.2         virginica \n",
       "6 5.4          3.9         1.7          0.4         versicolor\n",
       "7 4.6          3.4         1.4          0.3         setosa    \n",
       "8 5.0          3.4         1.5          0.2         virginica \n",
       "9 4.4          2.9         1.4          0.2         versicolor"
      ]
     },
     "metadata": {},
     "output_type": "display_data"
    },
    {
     "name": "stdout",
     "output_type": "stream",
     "text": [
      "'data.frame':\t150 obs. of  5 variables:\n",
      " $ Sepal.Length: num  5.1 4.9 4.7 4.6 5 5.4 4.6 5 4.4 4.9 ...\n",
      " $ Sepal.Width : num  3.5 3 3.2 3.1 3.6 3.9 3.4 3.4 2.9 3.1 ...\n",
      " $ Petal.Length: num  1.4 1.4 1.3 1.5 1.4 1.7 1.4 1.5 1.4 1.5 ...\n",
      " $ Petal.Width : num  0.2 0.2 0.2 0.2 0.2 0.4 0.3 0.2 0.2 0.1 ...\n",
      " $ Species     : Ord.factor w/ 3 levels \"setosa\"<\"versicolor\"<..: 1 3 2 1 3 2 1 3 2 1 ...\n"
     ]
    }
   ],
   "source": [
    "head(iris,9) # 그러하다. factor를 순서로 만들어버리면 해당 순서대로 정렬이 된다. \n",
    "str(iris) # ordered factor라고 내용이 변경되어 출력된다. "
   ]
  },
  {
   "cell_type": "code",
   "execution_count": null,
   "metadata": {},
   "outputs": [],
   "source": []
  },
  {
   "cell_type": "markdown",
   "metadata": {},
   "source": [
    "Reference List\n",
    "1. [Assign과 관련된 부분](http://stat.ethz.ch/R-manual/R-patched/library/base/html/assignOps.html)\n",
    " + ->, ->> 와 = 사이에 발생하는 오류 및 차이점에 대한 간략한 설명이 있다. \n",
    "\n",
    "\n",
    "2. [R 정리 블로그1 - 기초](http://rfriend.tistory.com/category/R%20%EB%B6%84%EC%84%9D%EA%B3%BC%20%ED%94%84%EB%A1%9C%EA%B7%B8%EB%9E%98%EB%B0%8D)\n",
    "3. [R 정리 블로그2 - 기초2](https://m.blog.naver.com/PostView.nhn?blogId=dic1224&logNo=80206432328&proxyReferer=https%3A%2F%2Fwww.google.co.kr%2F)\n",
    "4. [R 정리 블로그3 - 심화](http://lightblog.tistory.com/category/R)"
   ]
  },
  {
   "cell_type": "code",
   "execution_count": null,
   "metadata": {},
   "outputs": [],
   "source": []
  }
 ],
 "metadata": {
  "kernelspec": {
   "display_name": "R",
   "language": "R",
   "name": "ir"
  },
  "language_info": {
   "codemirror_mode": "r",
   "file_extension": ".r",
   "mimetype": "text/x-r-source",
   "name": "R",
   "pygments_lexer": "r",
   "version": "3.5.0"
  }
 },
 "nbformat": 4,
 "nbformat_minor": 2
}
